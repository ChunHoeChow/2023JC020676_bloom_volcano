{
 "cells": [
  {
   "cell_type": "code",
   "execution_count": 5,
   "id": "ed8b5d65",
   "metadata": {},
   "outputs": [],
   "source": [
    "using GMT\n",
    "using MAT\n",
    "using Statistics\n",
    "#cd(\"D:\\\\on_going_proposal\\\\running\\\\science\\\\on_going_paper\\\\bloom_2018\\\\test_nutrient\")"
   ]
  },
  {
   "cell_type": "code",
   "execution_count": 3,
   "id": "b5f7fc5d",
   "metadata": {},
   "outputs": [],
   "source": [
    "f=matopen(\"HOT_o2_test_fig5.mat\")\n",
    "    o2_ctd_06=read(f,\"o2_ctd_06\")\n",
    "    O2sat_06=read(f,\"O2sat_06\")\n",
    "    dep_06=read(f,\"dep_06\")\n",
    "    o2_ctd_07=read(f,\"o2_ctd_07\")\n",
    "    O2sat_07=read(f,\"O2sat_07\")\n",
    "    dep_07=read(f,\"dep_07\")\n",
    "    do_point_clim_June=read(f,\"do_point_clim_June\")\n",
    "    O2sat_06_point180=read(f,\"O2sat_06_point180\")\n",
    "    do_point_clim_July=read(f,\"do_point_clim_July\")\n",
    "    O2sat_07_point180=read(f,\"O2sat_07_point180\")\n",
    "    do_point_z=read(f,\"do_point_z\")\n",
    "close(f)\n",
    "\n",
    "# f=matopen(\"D:\\\\on_going_proposal\\\\running\\\\science\\\\on_going_paper\\\\bloom_2018\\\\test_nutrient\\\\HOT_O2sat_climdata.mat\")\n",
    "f=matopen(\"HOT_O2sat_climdata_fig5.mat\")\n",
    "    O2sat_ave=read(f,\"O2sat_ave\")\n",
    "    pres_ave=read(f,\"pres_ave\")\n",
    "close(f)\n",
    "\n",
    "f=matopen(\"Fig5_data_allJJ.mat\")\n",
    "    satO2_5904093=read(f,\"satO2_5904093\")\n",
    "    dep_5904093=read(f,\"dep_5904093\")\n",
    "    satO2_5904485=read(f,\"satO2_5904485\")\n",
    "    dep_5904485=read(f,\"dep_5904485\")\n",
    "close(f)\n",
    "\n",
    "mean_2018_67_HOT=(100*o2_ctd_06[1:end-1]./O2sat_06[1:end-1]+\n",
    "                 100*o2_ctd_07./O2sat_07)/2; \n",
    "clim_67_180=(100*do_point_clim_June./O2sat_06_point180+\n",
    "                 100*do_point_clim_July./O2sat_07_point180)/2; \n",
    "\n",
    "f=matopen(\"argo_5904093_do_timeseries_above25m_2014_2019.mat\")\n",
    "    time=read(f,\"time\")\n",
    "    DO=read(f,\"do\")\n",
    "    time67=read(f,\"time67\")\n",
    "    DO67=read(f,\"do67\")\n",
    "close(f)"
   ]
  },
  {
   "cell_type": "code",
   "execution_count": 4,
   "id": "d7661e0c",
   "metadata": {},
   "outputs": [],
   "source": [
    "# 20240730\n",
    "\n",
    "sp=3; ws=8; hh=6\n",
    "subplot(grid=(2,2), dims=(panels=((ws,ws),(hh,hh/2)),),  margins=\"0.2c, 0.5c\", \n",
    "           autolabel=(offset=(0.3,0.6),vertical=true,anchor=:BL), \n",
    "           name=\"Fig5_reviseII.tif\",dpi=300)\n",
    "# subplot(grid=(2,1), dims=(panels=(9,12)), margins=\"0.2c, 0.2c\", \n",
    "#            autolabel=(fill=:white,offset=0.5,vertical=true), \n",
    "#            name=\"test.tif\",dpi=300)\n",
    "subplot(:set,panel=:next, autolabel=\"(a)\")\n",
    "\n",
    "basemap(region=(75,110,0,200),figsize=(ws,-hh), proj=:linear)\n",
    "\n",
    "\n",
    "satO2_5904093_mean=mean(satO2_5904093,dims=2); satO2_5904093_mean=satO2_5904093_mean[2:end]\n",
    "satO2_5904093_std=std(satO2_5904093,dims=2); satO2_5904093_std=satO2_5904093_std[2:end]\n",
    "dep_5904093_mean=mean(dep_5904093,dims=2); dep_5904093_mean=dep_5904093_mean[2:end]\n",
    "plot!(satO2_5904093_mean,dep_5904093_mean,pen=(2,:red,:solid),legend=\"5904093 (in)\",figsize=(ws,-hh))\n",
    "fill_between!([satO2_5904093_mean.-satO2_5904093_std dep_5904093_mean], \n",
    "    [satO2_5904093_mean.+satO2_5904093_std dep_5904093_mean],fill=\"red@80\",pen=(0,\"red@100\",:solid),figsize=(ws,-hh))\n",
    "\n",
    "satO2_5904485_mean=mean(satO2_5904485,dims=2); satO2_5904485_mean=satO2_5904485_mean[3:end]\n",
    "satO2_5904485_std=std(satO2_5904485,dims=2); satO2_5904485_std=satO2_5904485_std[3:end]\n",
    "dep_5904485_mean=mean(dep_5904485,dims=2); dep_5904485_mean=dep_5904485_mean[3:end]\n",
    "plot!(satO2_5904485_mean,dep_5904485_mean,pen=(2,:blue,:solid),legend=\"5904485 (out)\",figsize=(ws,-hh))\n",
    "fill_between!([satO2_5904485_mean.-satO2_5904485_std dep_5904485_mean], \n",
    "    [satO2_5904485_mean.+satO2_5904485_std dep_5904485_mean],fill=\"blue@80\",pen=(0,\"blue@100\",:solid),figsize=(ws,-hh))\n",
    "\n",
    "\n",
    "I=findall(pres_ave .>= 10);\n",
    "lines!(O2sat_ave[I[1:sp:end]],pres_ave[I[1:sp:end]], ls=\"linecircle\",\n",
    "     ms=0.15, ml=(0.5,:black),figsize=(ws,-hh))\n",
    "plot!([75.6,77.6],[32 32],lw=0.5,lc=:black,figsize=(ws,-hh))\n",
    "plot!(76.6,32,marker=:circle,markercolor=:white,markerline=\"black\",ms=0.15,lw=0.5,lc=:black,figsize=(ws,-hh))\n",
    "text!([\"Clim. at Sta. ALOHA\"],x=78.2, y=32, justify=:LM)\n",
    "\n",
    "I=findall(dep_07 .>= 10);\n",
    "lines!(mean_2018_67_HOT[I[1:sp:end]],dep_07[I[1:sp:end]], ls=\"linetriangle\",\n",
    "     ms=0.2, ml=(0.5,:black),figsize=(ws,-hh))\n",
    "plot!([75.6,77.6],[42 42],lw=0.5,lc=:black,figsize=(ws,-hh))\n",
    "plot!(76.6,42,marker=:triangle,markercolor=:white,markerline=\"black\",ms=0.2,lw=0.5,lc=:black,figsize=(ws,-hh))\n",
    "text!([\"At Sta. ALOHA in 2018\"],x=78.2, y=42, justify=:LM)\n",
    "\n",
    "plot!([100,100],[0 200],lc=:black,xlabel=\"O@-2@- saturation (%)\", ylabel=\"Depth (m)\",figsize=(ws,-hh))\n",
    "\n",
    "I=findall(do_point_z .>= 10);\n",
    "plot!(clim_67_180[I],do_point_z[I],pen=(\"thickest\",\"dimgray@50\",:solid),figsize=(ws,-hh))\n",
    "plot!([75.6,77.6],[52 52],pen=(\"thickest\",\"dimgray@50\",:solid),figsize=(ws,-hh))\n",
    "text!([\"Clim. at 22@+o@+N & 180@+o@+\"],x=78.2, y=52, justify=:LM)\n",
    "# plot!(clim_67_180[I],do_point_z[I],pen=(\"thickest\",:dimgray,:solid),\n",
    "#      legend=\"Clim. at 22@+o@+N & 180@+o@+\",figsize=(ws,-hh))\n",
    "# plot!(clim_67_180[I],do_point_z[I],pen=(\"thickest\",:dimgray,:solid),\n",
    "#      legend=(label=\"Clim. at 22@+o@+N & 180@+o@+\",pos=:LT,box=:none))\n",
    "#     name=\"Fig5_300dpi.tif\",dpi=300)\n",
    "legend!(position=:LT, box=:none, proj=:linear)\n",
    "\n",
    "\n",
    "subplot(:set,panel=:next, autolabel=\"(b)\")\n",
    "\n",
    "basemap(region=(2014,2019,195,220),figsize=(ws,hh/2), proj=:linear,\n",
    "    xaxis=(ticks=1,annot=1),\n",
    "    yaxis=(ticks=5,annot=5),\n",
    "    ylabel=\"DO (@~m@~mol kg@+-1@+)\",\n",
    "    xlabel=\"Time (year)\")\n",
    "scatter!(time,DO,mc=:black,ms=0.05,figsize=(ws,hh/2))\n",
    "scatter!(time67,DO67,mc=:red,ms=0.05,figsize=(ws,hh/2))\n",
    "plot!([2014,2019],[213,213],pen=(\"thinner\",:black,:dashed))\n",
    "\n",
    "subplot(show=true)"
   ]
  },
  {
   "cell_type": "code",
   "execution_count": 6,
   "id": "333bd9bf",
   "metadata": {},
   "outputs": [
    {
     "data": {
      "text/plain": [
       "\"C:\\\\Users\\\\user\\\\Z_bloom_2018_dir\\\\files_submitted2\""
      ]
     },
     "execution_count": 6,
     "metadata": {},
     "output_type": "execute_result"
    }
   ],
   "source": [
    "pwd()"
   ]
  },
  {
   "cell_type": "code",
   "execution_count": null,
   "id": "6ea2fa74",
   "metadata": {},
   "outputs": [],
   "source": []
  }
 ],
 "metadata": {
  "kernelspec": {
   "display_name": "Julia 1.8.3",
   "language": "julia",
   "name": "julia-1.8"
  },
  "language_info": {
   "file_extension": ".jl",
   "mimetype": "application/julia",
   "name": "julia",
   "version": "1.8.3"
  }
 },
 "nbformat": 4,
 "nbformat_minor": 5
}
